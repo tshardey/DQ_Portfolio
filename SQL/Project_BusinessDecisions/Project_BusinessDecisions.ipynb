{
 "cells": [
  {
   "cell_type": "markdown",
   "metadata": {
    "collapsed": true
   },
   "source": [
    "# Answering Business Questions \n",
    "\n",
    "This project uses the Chinook database, which is comprise of relational SQL tables containing information about employees, customers, purchases and music.  "
   ]
  },
  {
   "cell_type": "code",
   "execution_count": 1,
   "metadata": {
    "collapsed": true
   },
   "outputs": [],
   "source": [
    "import sqlite3\n",
    "import pandas as pd\n",
    "import matplotlib.pyplot as plt\n",
    "import numpy as np\n",
    "%matplotlib inline"
   ]
  },
  {
   "cell_type": "code",
   "execution_count": 2,
   "metadata": {
    "collapsed": true
   },
   "outputs": [],
   "source": [
    "# Creating a function to quickly run an SQ\n",
    "def run_query(q):\n",
    "    with sqlite3.connect('chinook.db') as conn:\n",
    "        return pd.read_sql(q, conn)"
   ]
  },
  {
   "cell_type": "code",
   "execution_count": 3,
   "metadata": {
    "collapsed": true
   },
   "outputs": [],
   "source": [
    "# A function to run SQL quaries that don't return tables\n",
    "def run_command(c):\n",
    "    with sqlite3.connect('chinook.db') as conn:\n",
    "        conn.isolation_level = None\n",
    "        conn.execute(c)"
   ]
  },
  {
   "cell_type": "code",
   "execution_count": 4,
   "metadata": {
    "collapsed": false
   },
   "outputs": [
    {
     "data": {
      "text/html": [
       "<div>\n",
       "<style scoped>\n",
       "    .dataframe tbody tr th:only-of-type {\n",
       "        vertical-align: middle;\n",
       "    }\n",
       "\n",
       "    .dataframe tbody tr th {\n",
       "        vertical-align: top;\n",
       "    }\n",
       "\n",
       "    .dataframe thead th {\n",
       "        text-align: right;\n",
       "    }\n",
       "</style>\n",
       "<table border=\"1\" class=\"dataframe\">\n",
       "  <thead>\n",
       "    <tr style=\"text-align: right;\">\n",
       "      <th></th>\n",
       "      <th>name</th>\n",
       "      <th>type</th>\n",
       "    </tr>\n",
       "  </thead>\n",
       "  <tbody>\n",
       "    <tr>\n",
       "      <th>0</th>\n",
       "      <td>album</td>\n",
       "      <td>table</td>\n",
       "    </tr>\n",
       "    <tr>\n",
       "      <th>1</th>\n",
       "      <td>artist</td>\n",
       "      <td>table</td>\n",
       "    </tr>\n",
       "    <tr>\n",
       "      <th>2</th>\n",
       "      <td>customer</td>\n",
       "      <td>table</td>\n",
       "    </tr>\n",
       "    <tr>\n",
       "      <th>3</th>\n",
       "      <td>employee</td>\n",
       "      <td>table</td>\n",
       "    </tr>\n",
       "    <tr>\n",
       "      <th>4</th>\n",
       "      <td>genre</td>\n",
       "      <td>table</td>\n",
       "    </tr>\n",
       "    <tr>\n",
       "      <th>5</th>\n",
       "      <td>invoice</td>\n",
       "      <td>table</td>\n",
       "    </tr>\n",
       "    <tr>\n",
       "      <th>6</th>\n",
       "      <td>invoice_line</td>\n",
       "      <td>table</td>\n",
       "    </tr>\n",
       "    <tr>\n",
       "      <th>7</th>\n",
       "      <td>media_type</td>\n",
       "      <td>table</td>\n",
       "    </tr>\n",
       "    <tr>\n",
       "      <th>8</th>\n",
       "      <td>playlist</td>\n",
       "      <td>table</td>\n",
       "    </tr>\n",
       "    <tr>\n",
       "      <th>9</th>\n",
       "      <td>playlist_track</td>\n",
       "      <td>table</td>\n",
       "    </tr>\n",
       "    <tr>\n",
       "      <th>10</th>\n",
       "      <td>track</td>\n",
       "      <td>table</td>\n",
       "    </tr>\n",
       "  </tbody>\n",
       "</table>\n",
       "</div>"
      ],
      "text/plain": [
       "              name   type\n",
       "0            album  table\n",
       "1           artist  table\n",
       "2         customer  table\n",
       "3         employee  table\n",
       "4            genre  table\n",
       "5          invoice  table\n",
       "6     invoice_line  table\n",
       "7       media_type  table\n",
       "8         playlist  table\n",
       "9   playlist_track  table\n",
       "10           track  table"
      ]
     },
     "execution_count": 4,
     "metadata": {},
     "output_type": "execute_result"
    }
   ],
   "source": [
    "# A function to return a list of all tables and views in our databases\n",
    "def show_tables():\n",
    "    q = \"SELECT name,type FROM sqlite_master WHERE type IN ('table', 'view');\"\n",
    "    return run_query(q)\n",
    "\n",
    "show_tables()"
   ]
  },
  {
   "cell_type": "markdown",
   "metadata": {},
   "source": [
    "## Music by Genre"
   ]
  },
  {
   "cell_type": "code",
   "execution_count": 5,
   "metadata": {
    "collapsed": false
   },
   "outputs": [],
   "source": [
    "# a query that returns each genre, with the number of tracks sold in absolute numbers and in percentages.\n",
    "q = \"WITH song_sales AS(SELECT g.name genre, t.track_id, il.quantity FROM genre g LEFT JOIN track t ON g.genre_id = t.genre_id LEFT JOIN invoice_line il ON il.track_id = t.track_id) SELECT genre, SUM(quantity) purchased_songs, CAST(SUM(quantity) as FLOAT)/ (SELECT SUM(quantity) FROM song_sales) * 100 per_sales FROM song_sales GROUP BY 1 ORDER BY 3 DESC\"\n",
    "\n",
    "genre_sales = run_query(q)"
   ]
  },
  {
   "cell_type": "code",
   "execution_count": 6,
   "metadata": {
    "collapsed": false
   },
   "outputs": [],
   "source": [
    "# Setting the index \n",
    "genre_sales.set_index('genre', drop=True, inplace=True)"
   ]
  },
  {
   "cell_type": "code",
   "execution_count": 7,
   "metadata": {
    "collapsed": false
   },
   "outputs": [
    {
     "data": {
      "image/png": "[encoded data removed]",
      "text/plain": [
       "<matplotlib.figure.Figure at 0x7f7d1818ce10>"
      ]
     },
     "metadata": {},
     "output_type": "display_data"
    }
   ],
   "source": [
    "# Bar plot of the percentage of sales by genre\n",
    "genre_sales['per_sales'].plot.bar()\n",
    "plt.title(\"Percentage of Sales by Genre\")\n",
    "plt.xlabel(\"Genre\")\n",
    "plt.ylabel(\"Percentage %\")\n",
    "plt.show()"
   ]
  },
  {
   "cell_type": "markdown",
   "metadata": {},
   "source": [
    "## Music by Genre: Observations\n",
    "\n",
    "Based on the data, the highest selling tracks are in the Rock, Metal and Alternative Genre.  The user base does not seem to listen to any of the more eclectic genres.  "
   ]
  },
  {
   "cell_type": "markdown",
   "metadata": {},
   "source": [
    "## Sales Agent Performance"
   ]
  },
  {
   "cell_type": "code",
   "execution_count": 8,
   "metadata": {
    "collapsed": false
   },
   "outputs": [
    {
     "name": "stdout",
     "output_type": "stream",
     "text": [
      "Detailed summary of sales support agents:\n"
     ]
    },
    {
     "data": {
      "text/html": [
       "<div>\n",
       "<style scoped>\n",
       "    .dataframe tbody tr th:only-of-type {\n",
       "        vertical-align: middle;\n",
       "    }\n",
       "\n",
       "    .dataframe tbody tr th {\n",
       "        vertical-align: top;\n",
       "    }\n",
       "\n",
       "    .dataframe thead th {\n",
       "        text-align: right;\n",
       "    }\n",
       "</style>\n",
       "<table border=\"1\" class=\"dataframe\">\n",
       "  <thead>\n",
       "    <tr style=\"text-align: right;\">\n",
       "      <th></th>\n",
       "      <th>employee_name</th>\n",
       "      <th>employee_id</th>\n",
       "      <th>customer_purchase</th>\n",
       "      <th>hire_date</th>\n",
       "      <th>birthdate</th>\n",
       "      <th>postal_code</th>\n",
       "    </tr>\n",
       "  </thead>\n",
       "  <tbody>\n",
       "    <tr>\n",
       "      <th>0</th>\n",
       "      <td>Steve Johnson</td>\n",
       "      <td>5</td>\n",
       "      <td>1393.92</td>\n",
       "      <td>2017-10-17 00:00:00</td>\n",
       "      <td>1965-03-03 00:00:00</td>\n",
       "      <td>T3B 1Y7</td>\n",
       "    </tr>\n",
       "    <tr>\n",
       "      <th>1</th>\n",
       "      <td>Margaret Park</td>\n",
       "      <td>4</td>\n",
       "      <td>1584.00</td>\n",
       "      <td>2017-05-03 00:00:00</td>\n",
       "      <td>1947-09-19 00:00:00</td>\n",
       "      <td>T2P 5G3</td>\n",
       "    </tr>\n",
       "    <tr>\n",
       "      <th>2</th>\n",
       "      <td>Jane Peacock</td>\n",
       "      <td>3</td>\n",
       "      <td>1731.51</td>\n",
       "      <td>2017-04-01 00:00:00</td>\n",
       "      <td>1973-08-29 00:00:00</td>\n",
       "      <td>T2P 5M5</td>\n",
       "    </tr>\n",
       "  </tbody>\n",
       "</table>\n",
       "</div>"
      ],
      "text/plain": [
       "   employee_name  employee_id  customer_purchase            hire_date  \\\n",
       "0  Steve Johnson            5            1393.92  2017-10-17 00:00:00   \n",
       "1  Margaret Park            4            1584.00  2017-05-03 00:00:00   \n",
       "2   Jane Peacock            3            1731.51  2017-04-01 00:00:00   \n",
       "\n",
       "             birthdate postal_code  \n",
       "0  1965-03-03 00:00:00     T3B 1Y7  \n",
       "1  1947-09-19 00:00:00     T2P 5G3  \n",
       "2  1973-08-29 00:00:00     T2P 5M5  "
      ]
     },
     "execution_count": 8,
     "metadata": {},
     "output_type": "execute_result"
    }
   ],
   "source": [
    "# A query that finds the total dollar amount of sales assigned to each sales support agent within the company with extra attributes for employees that might be relevant to the analysis\n",
    "q = \"SELECT e.first_name || ' ' || e.last_name employee_name, e.employee_id, SUM(i.total) customer_purchase, e.hire_date, e.birthdate, e.postal_code FROM employee e LEFT JOIN customer c ON e.employee_id = c.support_rep_id LEFT JOIN invoice i ON c.customer_id = i.customer_id WHERE e.title = \\\"Sales Support Agent\\\" GROUP BY 1 ORDER BY 3\"\n",
    "# Saving the query\n",
    "sales_agents = run_query(q)\n",
    "\n",
    "print(\"Detailed summary of sales support agents:\")\n",
    "sales_agents"
   ]
  },
  {
   "cell_type": "code",
   "execution_count": 9,
   "metadata": {
    "collapsed": true
   },
   "outputs": [],
   "source": [
    "# Resetting the index to the employee names \n",
    "sales_agents.set_index('employee_name', drop=True, inplace=True)"
   ]
  },
  {
   "cell_type": "code",
   "execution_count": 10,
   "metadata": {
    "collapsed": false
   },
   "outputs": [
    {
     "data": {
      "image/png": "[encoded data removed]",
      "text/plain": [
       "<matplotlib.figure.Figure at 0x7f7d0e379da0>"
      ]
     },
     "metadata": {},
     "output_type": "display_data"
    }
   ],
   "source": [
    "sales_agents['customer_purchase'].plot.bar()\n",
    "plt.ylabel(\"Customer Purchases Amount in Dollars\")\n",
    "plt.xlabel(\"Employee Name\")\n",
    "plt.title(\"Sales Performance\")\n",
    "plt.show()"
   ]
  },
  {
   "cell_type": "markdown",
   "metadata": {},
   "source": [
    "## Performancec: Observations\n",
    "\n",
    "There wasn't substantial differences in the values of customer purchase between Sales Support Agents.   The highest performing Agent also had the earliest start date, which probably allowed for a head start.  "
   ]
  },
  {
   "cell_type": "markdown",
   "metadata": {
    "collapsed": true
   },
   "source": [
    "## Sales Data by Country\n",
    "\n",
    "Analyze the sales data for customers from each different country. \n",
    "\n",
    "- total number of customers\n",
    "- total value of sales\n",
    "- average value of sales per customer\n",
    "- average order value\n"
   ]
  },
  {
   "cell_type": "code",
   "execution_count": 11,
   "metadata": {
    "collapsed": false
   },
   "outputs": [
    {
     "data": {
      "text/html": [
       "<div>\n",
       "<style scoped>\n",
       "    .dataframe tbody tr th:only-of-type {\n",
       "        vertical-align: middle;\n",
       "    }\n",
       "\n",
       "    .dataframe tbody tr th {\n",
       "        vertical-align: top;\n",
       "    }\n",
       "\n",
       "    .dataframe thead th {\n",
       "        text-align: right;\n",
       "    }\n",
       "</style>\n",
       "<table border=\"1\" class=\"dataframe\">\n",
       "  <thead>\n",
       "    <tr style=\"text-align: right;\">\n",
       "      <th></th>\n",
       "      <th>country</th>\n",
       "      <th>total_customers</th>\n",
       "      <th>total_sales</th>\n",
       "      <th>avg_customer</th>\n",
       "      <th>avg_order</th>\n",
       "    </tr>\n",
       "  </thead>\n",
       "  <tbody>\n",
       "    <tr>\n",
       "      <th>0</th>\n",
       "      <td>USA</td>\n",
       "      <td>13</td>\n",
       "      <td>1040.49</td>\n",
       "      <td>80.04</td>\n",
       "      <td>8.17</td>\n",
       "    </tr>\n",
       "    <tr>\n",
       "      <th>1</th>\n",
       "      <td>Canada</td>\n",
       "      <td>8</td>\n",
       "      <td>535.59</td>\n",
       "      <td>66.95</td>\n",
       "      <td>11.11</td>\n",
       "    </tr>\n",
       "    <tr>\n",
       "      <th>2</th>\n",
       "      <td>Brazil</td>\n",
       "      <td>5</td>\n",
       "      <td>427.68</td>\n",
       "      <td>85.54</td>\n",
       "      <td>8.38</td>\n",
       "    </tr>\n",
       "    <tr>\n",
       "      <th>3</th>\n",
       "      <td>France</td>\n",
       "      <td>5</td>\n",
       "      <td>389.07</td>\n",
       "      <td>77.81</td>\n",
       "      <td>9.09</td>\n",
       "    </tr>\n",
       "    <tr>\n",
       "      <th>4</th>\n",
       "      <td>Germany</td>\n",
       "      <td>4</td>\n",
       "      <td>334.62</td>\n",
       "      <td>83.66</td>\n",
       "      <td>9.41</td>\n",
       "    </tr>\n",
       "    <tr>\n",
       "      <th>5</th>\n",
       "      <td>Czech Republic</td>\n",
       "      <td>2</td>\n",
       "      <td>273.24</td>\n",
       "      <td>136.62</td>\n",
       "      <td>8.03</td>\n",
       "    </tr>\n",
       "    <tr>\n",
       "      <th>6</th>\n",
       "      <td>United Kingdom</td>\n",
       "      <td>3</td>\n",
       "      <td>245.52</td>\n",
       "      <td>81.84</td>\n",
       "      <td>8.91</td>\n",
       "    </tr>\n",
       "    <tr>\n",
       "      <th>7</th>\n",
       "      <td>Portugal</td>\n",
       "      <td>2</td>\n",
       "      <td>185.13</td>\n",
       "      <td>92.56</td>\n",
       "      <td>7.92</td>\n",
       "    </tr>\n",
       "    <tr>\n",
       "      <th>8</th>\n",
       "      <td>India</td>\n",
       "      <td>2</td>\n",
       "      <td>183.15</td>\n",
       "      <td>91.57</td>\n",
       "      <td>8.61</td>\n",
       "    </tr>\n",
       "    <tr>\n",
       "      <th>9</th>\n",
       "      <td>Other</td>\n",
       "      <td>15</td>\n",
       "      <td>1094.94</td>\n",
       "      <td>73.00</td>\n",
       "      <td>7.52</td>\n",
       "    </tr>\n",
       "  </tbody>\n",
       "</table>\n",
       "</div>"
      ],
      "text/plain": [
       "          country  total_customers  total_sales  avg_customer  avg_order\n",
       "0             USA               13      1040.49         80.04       8.17\n",
       "1          Canada                8       535.59         66.95      11.11\n",
       "2          Brazil                5       427.68         85.54       8.38\n",
       "3          France                5       389.07         77.81       9.09\n",
       "4         Germany                4       334.62         83.66       9.41\n",
       "5  Czech Republic                2       273.24        136.62       8.03\n",
       "6  United Kingdom                3       245.52         81.84       8.91\n",
       "7        Portugal                2       185.13         92.56       7.92\n",
       "8           India                2       183.15         91.57       8.61\n",
       "9           Other               15      1094.94         73.00       7.52"
      ]
     },
     "execution_count": 11,
     "metadata": {},
     "output_type": "execute_result"
    }
   ],
   "source": [
    "q = ''' \n",
    "WITH cust_sum AS (\n",
    "SELECT customer_id,\n",
    "    SUM(total) tot_purchased,\n",
    "    AVG(total) avg_total\n",
    "FROM invoice \n",
    "GROUP BY 1\n",
    "ORDER BY 2)\n",
    "\n",
    "SELECT \n",
    "    country,\n",
    "    SUM(cust_purchases) total_customers,\n",
    "    SUM(tot_purchased) total_sales,\n",
    "    ROUND(CAST(SUM(tot_purchased) AS float) / SUM(cust_purchases), 2) avg_customer,\n",
    "    ROUND(avg_total, 2) avg_order\n",
    "FROM (\n",
    "SELECT \n",
    "    CASE\n",
    "        WHEN COUNT(cs.customer_id) = 1 THEN 'Other'\n",
    "        ELSE c.country END country,\n",
    "    COUNT(cs.customer_id) cust_purchases,\n",
    "    SUM(cs.tot_purchased) tot_purchased,\n",
    "    cs.avg_total\n",
    "FROM cust_sum cs\n",
    "LEFT JOIN customer c ON cs.customer_id = c.customer_id\n",
    "GROUP BY country\n",
    "ORDER BY 2 DESC)\n",
    "GROUP BY country\n",
    "ORDER BY CASE \n",
    "    WHEN country = 'Other' THEN 1\n",
    "    ELSE 0 END, total_sales DESC\n",
    "'''\n",
    "    \n",
    "run_query(q)"
   ]
  },
  {
   "cell_type": "code",
   "execution_count": 12,
   "metadata": {
    "collapsed": true
   },
   "outputs": [],
   "source": [
    "sales_by_country = run_query(q)"
   ]
  },
  {
   "cell_type": "markdown",
   "metadata": {},
   "source": [
    "## Visualization"
   ]
  },
  {
   "cell_type": "code",
   "execution_count": 13,
   "metadata": {
    "collapsed": false
   },
   "outputs": [
    {
     "data": {
      "image/png": "[encoded data removed]",
      "text/plain": [
       "<matplotlib.figure.Figure at 0x7f7d0e2a37f0>"
      ]
     },
     "metadata": {},
     "output_type": "display_data"
    }
   ],
   "source": [
    "# Pie chart, where the slices will be ordered and plotted counter-clockwise:\n",
    "countries = sales_by_country['country'].tolist()\n",
    "labels = countries[:9]\n",
    "\n",
    "customers_by_country = sales_by_country['total_customers'].tolist()\n",
    "sizes = customers_by_country[:9]\n",
    "\n",
    "# only \"explode\" the 1-3 slice \n",
    "explode = (0.05, 0.05, 0.05, 0, 0, 0, 0, 0, 0)  \n",
    "\n",
    "color = ['#ff0000', '#ff8000', '#ffbf00', '#00ff80', '#00ffff', '#4000ff', '#8000ff', '#bf00ff', '#ff00bf', '#ff0080']\n",
    "\n",
    "# Generate the figure\n",
    "fig1, ax1 = plt.subplots()\n",
    "ax1.pie(sizes, explode=explode, labels=labels, colors = color[:9], autopct='%1.1f%%',\n",
    "        shadow=True, startangle=90)\n",
    "ax1.axis('equal')  # Equal aspect ratio ensures that pie is drawn as a circle.\n",
    "\n",
    "plt.title(\"Customer Distribution by Country\", y=1.08)\n",
    "plt.show()"
   ]
  },
  {
   "cell_type": "code",
   "execution_count": 14,
   "metadata": {
    "collapsed": false
   },
   "outputs": [],
   "source": [
    "# Setting the index to allow for easier bar graphs\n",
    "indexed_sales = sales_by_country.set_index('country', drop=True)"
   ]
  },
  {
   "cell_type": "code",
   "execution_count": 15,
   "metadata": {
    "collapsed": false
   },
   "outputs": [
    {
     "data": {
      "image/png": "[encoded data removed]",
      "text/plain": [
       "<matplotlib.figure.Figure at 0x7f7d0e2d4048>"
      ]
     },
     "metadata": {},
     "output_type": "display_data"
    }
   ],
   "source": [
    "# Creating horizontal bar plots following the previously established color scheme\n",
    "indexed_sales['total_sales'].plot.barh(color = color)\n",
    "\n",
    "plt.ylabel(\"Country\")\n",
    "plt.xlabel(\"Total Sales in Dollars\")\n",
    "plt.title(\"Total Sales by Country\")\n",
    "\n",
    "plt.show()"
   ]
  },
  {
   "cell_type": "code",
   "execution_count": 16,
   "metadata": {
    "collapsed": false
   },
   "outputs": [
    {
     "data": {
      "image/png": "[encoded data removed]",
      "text/plain": [
       "<matplotlib.figure.Figure at 0x7f7d0e1c99e8>"
      ]
     },
     "metadata": {},
     "output_type": "display_data"
    }
   ],
   "source": [
    "indexed_sales['avg_customer'].plot.barh(color = color)\n",
    "\n",
    "plt.ylabel(\"Country\")\n",
    "plt.xlabel(\"Order Total in Dollars\")\n",
    "plt.title(\"Orders by Country\")\n",
    "\n",
    "plt.show()"
   ]
  },
  {
   "cell_type": "markdown",
   "metadata": {},
   "source": [
    "## Country: Observations\n",
    "\n",
    "The USA has the largest number of customers, followed by Canada.  However, the largest orders are completed by people in the Czech Republic.  The USA produce the largest total sales."
   ]
  },
  {
   "cell_type": "markdown",
   "metadata": {
    "collapsed": true
   },
   "source": [
    "## Album Purchases\n",
    "\n",
    "The Chinook store is setup in a way that allows customer to make purchases in one of the two ways:\n",
    "\n",
    "- purchase a whole album\n",
    "- purchase a collection of one or more individual track\n",
    "\n",
    "The store does not let customers purchase a whole album, and then add individual tracks to that same purchase (unless they do that by choosing each track manually). When customers purchase albums they are charged the same price as if they had purchased each of those tracks separately."
   ]
  },
  {
   "cell_type": "code",
   "execution_count": 36,
   "metadata": {
    "collapsed": false
   },
   "outputs": [
    {
     "data": {
      "text/html": [
       "<div>\n",
       "<style scoped>\n",
       "    .dataframe tbody tr th:only-of-type {\n",
       "        vertical-align: middle;\n",
       "    }\n",
       "\n",
       "    .dataframe tbody tr th {\n",
       "        vertical-align: top;\n",
       "    }\n",
       "\n",
       "    .dataframe thead th {\n",
       "        text-align: right;\n",
       "    }\n",
       "</style>\n",
       "<table border=\"1\" class=\"dataframe\">\n",
       "  <thead>\n",
       "    <tr style=\"text-align: right;\">\n",
       "      <th></th>\n",
       "      <th>album_purchase</th>\n",
       "      <th>number_of_invoices</th>\n",
       "      <th>percent</th>\n",
       "    </tr>\n",
       "  </thead>\n",
       "  <tbody>\n",
       "    <tr>\n",
       "      <th>0</th>\n",
       "      <td>no</td>\n",
       "      <td>500</td>\n",
       "      <td>0.814332</td>\n",
       "    </tr>\n",
       "    <tr>\n",
       "      <th>1</th>\n",
       "      <td>yes</td>\n",
       "      <td>114</td>\n",
       "      <td>0.185668</td>\n",
       "    </tr>\n",
       "  </tbody>\n",
       "</table>\n",
       "</div>"
      ],
      "text/plain": [
       "  album_purchase  number_of_invoices   percent\n",
       "0             no                 500  0.814332\n",
       "1            yes                 114  0.185668"
      ]
     },
     "execution_count": 36,
     "metadata": {},
     "output_type": "execute_result"
    }
   ],
   "source": [
    "q = '''\n",
    "WITH invoice_first_track AS\n",
    "    (\n",
    "     SELECT\n",
    "         il.invoice_id invoice_id,\n",
    "         MIN(il.track_id) first_track_id\n",
    "     FROM invoice_line il\n",
    "     GROUP BY 1\n",
    "    )\n",
    "\n",
    "SELECT\n",
    "    album_purchase,\n",
    "    COUNT(invoice_id) number_of_invoices,\n",
    "    CAST(count(invoice_id) AS FLOAT) / (\n",
    "                                         SELECT COUNT(*) FROM invoice\n",
    "                                      ) percent\n",
    "FROM\n",
    "    (\n",
    "    SELECT\n",
    "        ifs.*,\n",
    "        CASE\n",
    "            WHEN\n",
    "                 (\n",
    "                  SELECT t.track_id FROM track t\n",
    "                  WHERE t.album_id = (\n",
    "                                      SELECT t2.album_id FROM track t2\n",
    "                                      WHERE t2.track_id = ifs.first_track_id\n",
    "                                     ) \n",
    "\n",
    "                  EXCEPT \n",
    "\n",
    "                  SELECT il2.track_id FROM invoice_line il2\n",
    "                  WHERE il2.invoice_id = ifs.invoice_id\n",
    "                 ) IS NULL\n",
    "             AND\n",
    "                 (\n",
    "                  SELECT il2.track_id FROM invoice_line il2\n",
    "                  WHERE il2.invoice_id = ifs.invoice_id\n",
    "\n",
    "                  EXCEPT \n",
    "\n",
    "                  SELECT t.track_id FROM track t\n",
    "                  WHERE t.album_id = (\n",
    "                                      SELECT t2.album_id FROM track t2\n",
    "                                      WHERE t2.track_id = ifs.first_track_id\n",
    "                                     ) \n",
    "                 ) IS NULL\n",
    "             THEN \"yes\"\n",
    "             ELSE \"no\"\n",
    "         END AS \"album_purchase\"\n",
    "     FROM invoice_first_track ifs\n",
    "    )\n",
    "GROUP BY album_purchase;\n",
    "'''\n",
    "\n",
    "run_query(q)"
   ]
  },
  {
   "cell_type": "markdown",
   "metadata": {
    "collapsed": false
   },
   "source": [
    "## Album Purchases: Observations\n",
    "\n",
    "With only 18% of customers purchasing hte full album it is probably safe to stop purchasing full albums and only pick popular songs off of albums."
   ]
  },
  {
   "cell_type": "code",
   "execution_count": null,
   "metadata": {
    "collapsed": true
   },
   "outputs": [],
   "source": []
  }
 ],
 "metadata": {
  "kernelspec": {
   "display_name": "Python 3",
   "language": "python",
   "name": "python3"
  },
  "language_info": {
   "codemirror_mode": {
    "name": "ipython",
    "version": 3
   },
   "file_extension": ".py",
   "mimetype": "text/x-python",
   "name": "python",
   "nbconvert_exporter": "python",
   "pygments_lexer": "ipython3",
   "version": "3.4.3"
  }
 },
 "nbformat": 4,
 "nbformat_minor": 2
}
