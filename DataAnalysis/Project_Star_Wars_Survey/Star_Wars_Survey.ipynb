{
 "cells": [
  {
   "cell_type": "markdown",
   "metadata": {
    "collapsed": true
   },
   "source": [
    "# Star Wars Project\n",
    "\n",
    "The team at FiveThirtyEight asked guestions about Star Wars from fans using SurveyMonkey.  They received a total of 835 responses.  \n",
    "\n",
    "## Importing dataset"
   ]
  },
  {
   "cell_type": "code",
   "execution_count": 116,
   "metadata": {
    "collapsed": false
   },
   "outputs": [
    {
     "name": "stdout",
     "output_type": "stream",
     "text": [
      "   RespondentID Have you seen any of the 6 films in the Star Wars franchise?  \\\n",
      "0           NaN                                           Response             \n",
      "1  3.292880e+09                                                Yes             \n",
      "2  3.292880e+09                                                 No             \n",
      "3  3.292765e+09                                                Yes             \n",
      "4  3.292763e+09                                                Yes             \n",
      "\n",
      "  Do you consider yourself to be a fan of the Star Wars film franchise?  \\\n",
      "0                                           Response                      \n",
      "1                                                Yes                      \n",
      "2                                                NaN                      \n",
      "3                                                 No                      \n",
      "4                                                Yes                      \n",
      "\n",
      "  Which of the following Star Wars films have you seen? Please select all that apply.  \\\n",
      "0           Star Wars: Episode I  The Phantom Menace                                    \n",
      "1           Star Wars: Episode I  The Phantom Menace                                    \n",
      "2                                                NaN                                    \n",
      "3           Star Wars: Episode I  The Phantom Menace                                    \n",
      "4           Star Wars: Episode I  The Phantom Menace                                    \n",
      "\n",
      "                                    Unnamed: 4  \\\n",
      "0  Star Wars: Episode II  Attack of the Clones   \n",
      "1  Star Wars: Episode II  Attack of the Clones   \n",
      "2                                          NaN   \n",
      "3  Star Wars: Episode II  Attack of the Clones   \n",
      "4  Star Wars: Episode II  Attack of the Clones   \n",
      "\n",
      "                                    Unnamed: 5  \\\n",
      "0  Star Wars: Episode III  Revenge of the Sith   \n",
      "1  Star Wars: Episode III  Revenge of the Sith   \n",
      "2                                          NaN   \n",
      "3  Star Wars: Episode III  Revenge of the Sith   \n",
      "4  Star Wars: Episode III  Revenge of the Sith   \n",
      "\n",
      "                          Unnamed: 6  \\\n",
      "0  Star Wars: Episode IV  A New Hope   \n",
      "1  Star Wars: Episode IV  A New Hope   \n",
      "2                                NaN   \n",
      "3                                NaN   \n",
      "4  Star Wars: Episode IV  A New Hope   \n",
      "\n",
      "                                     Unnamed: 7  \\\n",
      "0  Star Wars: Episode V The Empire Strikes Back   \n",
      "1  Star Wars: Episode V The Empire Strikes Back   \n",
      "2                                           NaN   \n",
      "3                                           NaN   \n",
      "4  Star Wars: Episode V The Empire Strikes Back   \n",
      "\n",
      "                                 Unnamed: 8  \\\n",
      "0  Star Wars: Episode VI Return of the Jedi   \n",
      "1  Star Wars: Episode VI Return of the Jedi   \n",
      "2                                       NaN   \n",
      "3                                       NaN   \n",
      "4  Star Wars: Episode VI Return of the Jedi   \n",
      "\n",
      "  Please rank the Star Wars films in order of preference with 1 being your favorite film in the franchise and 6 being your least favorite film.  \\\n",
      "0           Star Wars: Episode I  The Phantom Menace                                                                                              \n",
      "1                                                  3                                                                                              \n",
      "2                                                NaN                                                                                              \n",
      "3                                                  1                                                                                              \n",
      "4                                                  5                                                                                              \n",
      "\n",
      "            ...                  Unnamed: 28  \\\n",
      "0           ...                         Yoda   \n",
      "1           ...               Very favorably   \n",
      "2           ...                          NaN   \n",
      "3           ...             Unfamiliar (N/A)   \n",
      "4           ...               Very favorably   \n",
      "\n",
      "        Which character shot first?  \\\n",
      "0                          Response   \n",
      "1  I don't understand this question   \n",
      "2                               NaN   \n",
      "3  I don't understand this question   \n",
      "4  I don't understand this question   \n",
      "\n",
      "  Are you familiar with the Expanded Universe?  \\\n",
      "0                                     Response   \n",
      "1                                          Yes   \n",
      "2                                          NaN   \n",
      "3                                           No   \n",
      "4                                           No   \n",
      "\n",
      "  Do you consider yourself to be a fan of the Expanded Universe?ÂÃ¦  \\\n",
      "0                                           Response                   \n",
      "1                                                 No                   \n",
      "2                                                NaN                   \n",
      "3                                                NaN                   \n",
      "4                                                NaN                   \n",
      "\n",
      "  Do you consider yourself to be a fan of the Star Trek franchise?    Gender  \\\n",
      "0                                           Response                Response   \n",
      "1                                                 No                    Male   \n",
      "2                                                Yes                    Male   \n",
      "3                                                 No                    Male   \n",
      "4                                                Yes                    Male   \n",
      "\n",
      "        Age     Household Income                         Education  \\\n",
      "0  Response             Response                          Response   \n",
      "1     18-29                  NaN                High school degree   \n",
      "2     18-29         $0 - $24,999                   Bachelor degree   \n",
      "3     18-29         $0 - $24,999                High school degree   \n",
      "4     18-29  $100,000 - $149,999  Some college or Associate degree   \n",
      "\n",
      "  Location (Census Region)  \n",
      "0                 Response  \n",
      "1           South Atlantic  \n",
      "2       West South Central  \n",
      "3       West North Central  \n",
      "4       West North Central  \n",
      "\n",
      "[5 rows x 38 columns]\n",
      "Index(['RespondentID',\n",
      "       'Have you seen any of the 6 films in the Star Wars franchise?',\n",
      "       'Do you consider yourself to be a fan of the Star Wars film franchise?',\n",
      "       'Which of the following Star Wars films have you seen? Please select all that apply.',\n",
      "       'Unnamed: 4', 'Unnamed: 5', 'Unnamed: 6', 'Unnamed: 7', 'Unnamed: 8',\n",
      "       'Please rank the Star Wars films in order of preference with 1 being your favorite film in the franchise and 6 being your least favorite film.',\n",
      "       'Unnamed: 10', 'Unnamed: 11', 'Unnamed: 12', 'Unnamed: 13',\n",
      "       'Unnamed: 14',\n",
      "       'Please state whether you view the following characters favorably, unfavorably, or are unfamiliar with him/her.',\n",
      "       'Unnamed: 16', 'Unnamed: 17', 'Unnamed: 18', 'Unnamed: 19',\n",
      "       'Unnamed: 20', 'Unnamed: 21', 'Unnamed: 22', 'Unnamed: 23',\n",
      "       'Unnamed: 24', 'Unnamed: 25', 'Unnamed: 26', 'Unnamed: 27',\n",
      "       'Unnamed: 28', 'Which character shot first?',\n",
      "       'Are you familiar with the Expanded Universe?',\n",
      "       'Do you consider yourself to be a fan of the Expanded Universe?ÂÃ¦',\n",
      "       'Do you consider yourself to be a fan of the Star Trek franchise?',\n",
      "       'Gender', 'Age', 'Household Income', 'Education',\n",
      "       'Location (Census Region)'],\n",
      "      dtype='object')\n"
     ]
    }
   ],
   "source": [
    "import pandas as pd\n",
    "# Reading the data into a dataframe\n",
    "star_wars = pd.read_csv(\"star_wars.csv\", encoding=\"ISO-8859-1\")\n",
    "\n",
    "# Previewing the data\n",
    "print(star_wars.head(5))\n",
    "print(star_wars.columns)"
   ]
  },
  {
   "cell_type": "code",
   "execution_count": 117,
   "metadata": {
    "collapsed": false
   },
   "outputs": [],
   "source": [
    "# removing rows with NaN repsondent IDs\n",
    "star_wars = star_wars[star_wars['RespondentID'].notnull()]"
   ]
  },
  {
   "cell_type": "markdown",
   "metadata": {
    "collapsed": false
   },
   "source": [
    "# Remapping Values\n",
    "\n",
    "## Yes and No"
   ]
  },
  {
   "cell_type": "code",
   "execution_count": 118,
   "metadata": {
    "collapsed": false
   },
   "outputs": [],
   "source": [
    "# Create a mapping dictionary\n",
    "yes_no = {\n",
    "    \"Yes\": True,\n",
    "    \"No\": False\n",
    "}\n",
    "\n",
    "# Create text shortcuts\n",
    "franchise_text = 'Have you seen any of the 6 films in the Star Wars franchise?'\n",
    "fan_text = 'Do you consider yourself to be a fan of the Star Wars film franchise?'\n",
    "# Creating a list with the text values\n",
    "fan_fran = [franchise_text, fan_text]\n",
    "# Looping through relevant columns to map new values according to yes_no dictionary\n",
    "for text in fan_fran:\n",
    "    star_wars[text] = star_wars[text].map(yes_no)\n"
   ]
  },
  {
   "cell_type": "markdown",
   "metadata": {},
   "source": [
    "## Multiple Choice Columns"
   ]
  },
  {
   "cell_type": "code",
   "execution_count": 119,
   "metadata": {
    "collapsed": false
   },
   "outputs": [],
   "source": [
    "import numpy as np\n",
    "\n",
    "# create a dictionary with all of the movie titles and assiagn them a boolean operator\n",
    "movie_dict = {\n",
    "    'Star Wars: Episode I  The Phantom Menace': True,\n",
    "    'Star Wars: Episode II  Attack of the Clones': True,\n",
    "    'Star Wars: Episode III  Revenge of the Sith': True,\n",
    "    'Star Wars: Episode IV  A New Hope': True,\n",
    "    'Star Wars: Episode V The Empire Strikes Back': True,\n",
    "    'Star Wars: Episode VI Return of the Jedi': True,\n",
    "    np.NaN: False\n",
    "}\n",
    "# create a list of all of the movie columns\n",
    "movie_col_names = ['Which of the following Star Wars films have you seen? Please select all that apply.', 'Unnamed: 4', 'Unnamed: 5', 'Unnamed: 6', 'Unnamed: 7', 'Unnamed: 8']\n",
    "\n",
    "# Loop through each column and remap the values\n",
    "for movie in movie_col_names:\n",
    "    star_wars[movie] = star_wars[movie].map(movie_dict)"
   ]
  },
  {
   "cell_type": "markdown",
   "metadata": {},
   "source": [
    "# Renaming\n",
    "\n",
    "## Movie Columns"
   ]
  },
  {
   "cell_type": "code",
   "execution_count": 120,
   "metadata": {
    "collapsed": false
   },
   "outputs": [],
   "source": [
    "# Creating an empty rename dictionary for the movie titles \n",
    "rename_dict = {}\n",
    "# Setting a counter to iterate through the column name list\n",
    "\n",
    "# Looping through all the names in the movie title and declaring a more \n",
    "# intuitive column name\n",
    "for idx, movie in enumerate(movie_col_names):\n",
    "    #  setting the current column title to the movie name\n",
    "    rename_dict[movie] = \"seen_\" + str(idx+1)\n",
    "\n",
    "# Renaming movie columns\n",
    "star_wars = star_wars.rename(index=str, columns = rename_dict)"
   ]
  },
  {
   "cell_type": "markdown",
   "metadata": {
    "collapsed": true
   },
   "source": [
    "## Ranking Columns"
   ]
  },
  {
   "cell_type": "code",
   "execution_count": 121,
   "metadata": {
    "collapsed": false
   },
   "outputs": [],
   "source": [
    "# Settting ranking values for relevant columns to a float type\n",
    "star_wars[star_wars.columns[9:15]] = star_wars[star_wars.columns[9:15]].astype(float)\n",
    "# Creating an empty dictionary to house new names\n",
    "rank_dict = {}\n",
    "# Iterating through the relevant column names\n",
    "for idx, col in enumerate(star_wars.columns[9:15].tolist()):\n",
    "    # Assigning the old column name to the new column name\n",
    "    rank_dict[col] = \"ranking_\" +str(idx+1)\n",
    "   \n",
    "# Renaming ranking columns\n",
    "star_wars = star_wars.rename(index=str, columns = rank_dict)"
   ]
  },
  {
   "cell_type": "markdown",
   "metadata": {},
   "source": [
    "## Visualizing Rankings"
   ]
  },
  {
   "cell_type": "code",
   "execution_count": 122,
   "metadata": {
    "collapsed": false
   },
   "outputs": [
    {
     "data": {
      "text/plain": [
       "<function matplotlib.pyplot.show>"
      ]
     },
     "execution_count": 122,
     "metadata": {},
     "output_type": "execute_result"
    },
    {
     "data": {
      "image/png": "[encoded data removed]",
      "text/plain": [
       "<matplotlib.figure.Figure at 0x7f17be4207b8>"
      ]
     },
     "metadata": {},
     "output_type": "display_data"
    }
   ],
   "source": [
    "import matplotlib.pyplot as plt\n",
    "%matplotlib inline\n",
    "\n",
    "# computing the mean rankings \n",
    "ranking_means = star_wars.loc[:,'ranking_1':'ranking_6'].mean()\n",
    "\n",
    "xpos = np.arange(0, len(ranking_means))\n",
    "\n",
    "plt.bar(xpos, ranking_means)\n",
    "plt.xticks(xpos+.4, ranking_means.index, rotation=90)\n",
    "plt.title('Star Wars Average Movie Ranking (1-6)')\n",
    "plt.ylabel('Rank')\n",
    "plt.xlabel('Movie')\n",
    "plt.show"
   ]
  },
  {
   "cell_type": "markdown",
   "metadata": {},
   "source": [
    "Episode V: Empire stricks back had the best ranking (lowest number is better), while the newer movies Episodes I-III were ranked lower.  This is consistent with feedback I've received from both avid and casual Star Wars fans.  "
   ]
  },
  {
   "cell_type": "code",
   "execution_count": 123,
   "metadata": {
    "collapsed": false
   },
   "outputs": [
    {
     "data": {
      "text/plain": [
       "<function matplotlib.pyplot.show>"
      ]
     },
     "execution_count": 123,
     "metadata": {},
     "output_type": "execute_result"
    },
    {
     "data": {
      "image/png": "[encoded data removed]",
      "text/plain": [
       "<matplotlib.figure.Figure at 0x7f17be4209b0>"
      ]
     },
     "metadata": {},
     "output_type": "display_data"
    }
   ],
   "source": [
    "import matplotlib.pyplot as plt\n",
    "%matplotlib inline\n",
    "\n",
    "# computing the mean rankings \n",
    "seen_sum = star_wars.loc[:,'seen_1':'seen_6'].sum()\n",
    "\n",
    "# creating bar spacing for the plot\n",
    "xpos = np.arange(0, len(seen_sum))\n",
    "\n",
    "# Creating and labeling the bar plot\n",
    "plt.bar(xpos, seen_sum)\n",
    "plt.xticks(xpos+.4, seen_sum.index, rotation=90)\n",
    "plt.title('Star Wars Movie Sums (1-6)')\n",
    "plt.ylabel('Total Watched')\n",
    "plt.xlabel('Movie')\n",
    "plt.show"
   ]
  },
  {
   "cell_type": "markdown",
   "metadata": {},
   "source": [
    "The number of movies watched is consistent with the average movie ranking.  Most people have seen Episode V, with it getting lower for the newer movies.  "
   ]
  },
  {
   "cell_type": "markdown",
   "metadata": {
    "collapsed": true
   },
   "source": [
    "# Star Wars by Gender"
   ]
  },
  {
   "cell_type": "code",
   "execution_count": 124,
   "metadata": {
    "collapsed": false
   },
   "outputs": [],
   "source": [
    "# Subsetting the data  by gender\n",
    "males = star_wars[star_wars[\"Gender\"] == \"Male\"]\n",
    "females = star_wars[star_wars[\"Gender\"] == \"Female\"]"
   ]
  },
  {
   "cell_type": "code",
   "execution_count": 125,
   "metadata": {
    "collapsed": false
   },
   "outputs": [
    {
     "data": {
      "text/plain": [
       "<function matplotlib.pyplot.show>"
      ]
     },
     "execution_count": 125,
     "metadata": {},
     "output_type": "execute_result"
    },
    {
     "data": {
      "image/png": "[encoded data removed]",
      "text/plain": [
       "<matplotlib.figure.Figure at 0x7f1831711f98>"
      ]
     },
     "metadata": {},
     "output_type": "display_data"
    }
   ],
   "source": [
    "# computing the mean rankings \n",
    "males_ranking_means = males.loc[:,'ranking_1':'ranking_6'].mean()\n",
    "females_ranking_means = females.loc[:,'ranking_1':'ranking_6'].mean()\n",
    "\n",
    "# Creating the bar spacing for the bar plot\n",
    "xpos = np.arange(0, len(males_ranking_means))\n",
    "# Creating the subplot\n",
    "fig, (ax1, ax2) = plt.subplots(1,2, figsize=(8,4))\n",
    "\n",
    "# Creating the two bar plots\n",
    "ax1.bar(xpos, males_ranking_means)\n",
    "ax2.bar(xpos, females_ranking_means)\n",
    "\n",
    "# Labeling the plots\n",
    "ax1.set_title('Male Star Wars Average\\n Movie Ranking')\n",
    "ax1.set_ylabel('Rank')\n",
    "ax1.set_xlabel('Movie')\n",
    "ax1.set_xticks(xpos+0.4)\n",
    "ax1.set_xticklabels(ranking_means.index, rotation=90)\n",
    "\n",
    "ax2.set_title('Female Star Wars Average\\n Movie Ranking')\n",
    "ax2.set_ylabel('Rank')\n",
    "ax2.set_xlabel('Movie')\n",
    "ax2.set_xticks(xpos+0.4)\n",
    "ax2.set_xticklabels(ranking_means.index, rotation=90)\n",
    "\n",
    "plt.show"
   ]
  },
  {
   "cell_type": "code",
   "execution_count": 126,
   "metadata": {
    "collapsed": false
   },
   "outputs": [
    {
     "data": {
      "text/plain": [
       "<function matplotlib.pyplot.show>"
      ]
     },
     "execution_count": 126,
     "metadata": {},
     "output_type": "execute_result"
    },
    {
     "data": {
      "image/png": "[encoded data removed]",
      "text/plain": [
       "<matplotlib.figure.Figure at 0x7f17be3498d0>"
      ]
     },
     "metadata": {},
     "output_type": "display_data"
    }
   ],
   "source": [
    "# computing the sum views by movie \n",
    "males_view_sum = males.loc[:,'seen_1':'seen_6'].sum()\n",
    "females_view_sum = females.loc[:,'seen_1':'seen_6'].sum()\n",
    "\n",
    "# Creating the bar spacing for the bar plot\n",
    "xpos = np.arange(0, len(males_ranking_means))\n",
    "# Creating the subplot\n",
    "fig, (ax1, ax2) = plt.subplots(1,2, figsize=(8,4))\n",
    "\n",
    "# Creating the two bar plots\n",
    "ax1.bar(xpos, males_view_sum)\n",
    "ax2.bar(xpos, females_view_sum)\n",
    "\n",
    "# Labeling the plots\n",
    "ax1.set_title('Male Star Wars Total\\n Movie Views')\n",
    "ax1.set_ylabel('Views')\n",
    "ax1.set_xlabel('Movie')\n",
    "ax1.set_xticks(xpos+0.4)\n",
    "ax1.set_xticklabels(ranking_means.index, rotation=90)\n",
    "\n",
    "ax2.set_title('Female Star Wars Total\\n Movie Views')\n",
    "ax2.set_ylabel('Views')\n",
    "ax2.set_xlabel('Movie')\n",
    "ax2.set_xticks(xpos+0.4)\n",
    "ax2.set_xticklabels(ranking_means.index, rotation=90)\n",
    "\n",
    "plt.show"
   ]
  },
  {
   "cell_type": "markdown",
   "metadata": {},
   "source": [
    "The most popular movie for both males and females was Episode V. There was a larger distribution of values for the females in the first 3 Episodes. The last 3 Episodes (4-6) were the clear favorite for males, but Episode IV and Episode I were tied for females.  \n",
    "\n",
    "The total  movie views were slightly higher for males, especially for Episodes I - IV.  "
   ]
  },
  {
   "cell_type": "markdown",
   "metadata": {},
   "source": [
    "# Cleaning Up Character Names"
   ]
  },
  {
   "cell_type": "code",
   "execution_count": 145,
   "metadata": {
    "collapsed": false
   },
   "outputs": [],
   "source": [
    "# Creating an empty dictionary to house the renaming pairs\n",
    "char_dict = {}\n",
    "# A list of all the characters from the survey\n",
    "characters = ['Han Solo','Luke Skywalker','Princess Leia Organa','Anakin Skywalker','Obi Wan Kenobi','Emperor Palpatine','Darth Vader','Lando Calrissian','Boba Fett','C-3P0','R2 D2','Jar Jar Binks','Padme Amidala','Yoda']\n",
    "# Mapping characters to column name\n",
    "for idx, person in enumerate(star_wars.columns[15:29].tolist()):\n",
    "    char_dict[person] = characters[idx]\n",
    "# Renaming columns\n",
    "star_wars = star_wars.rename(index=str, columns=char_dict)\n",
    "# Subsetting the data to those who very favorably view characters\n",
    "favorable = star_wars[star_wars.loc[:,'Han Solo':'Yoda'] == 'Very favorably']\n",
    "\n",
    "# Favorite remapping dictionary\n",
    "fav_dic = {\n",
    "    'Very favorably': True,\n",
    "    np.NaN:False\n",
    "}\n",
    "\n",
    "# Remapping each of the character rows\n",
    "for character in characters:\n",
    "    favorable[character] = favorable[character].map(fav_dic)\n",
    "\n",
    "# Summing the total \"Very favorable\" repsonses and sorting them low to high\n",
    "fav_sum = favorable[characters].sum().sort_values()"
   ]
  },
  {
   "cell_type": "markdown",
   "metadata": {},
   "source": [
    "## Plotting favorability "
   ]
  },
  {
   "cell_type": "code",
   "execution_count": 148,
   "metadata": {
    "collapsed": false
   },
   "outputs": [
    {
     "data": {
      "text/plain": [
       "<function matplotlib.pyplot.show>"
      ]
     },
     "execution_count": 148,
     "metadata": {},
     "output_type": "execute_result"
    },
    {
     "data": {
      "image/png": "[encoded data removed]",
      "text/plain": [
       "<matplotlib.figure.Figure at 0x7f17be434780>"
      ]
     },
     "metadata": {},
     "output_type": "display_data"
    }
   ],
   "source": [
    "# creating bar spacing for the plot\n",
    "xpos = np.arange(0, len(fav_sum))\n",
    "\n",
    "# Creating and labeling the bar plot\n",
    "plt.barh(xpos, fav_sum)\n",
    "plt.yticks(xpos+.4, fav_sum.index)\n",
    "plt.title('Star Wars Character Favorability Totals')\n",
    "plt.xlabel('Favoribility')\n",
    "plt.ylabel('Character')\n",
    "plt.show"
   ]
  },
  {
   "cell_type": "markdown",
   "metadata": {},
   "source": [
    "Predictable characters like Yoda, Han Solo and Obi Wan have very high favorability ratings. Devisive characters like Jar Jar Binks have even lowere favorability then the vilian in the stories, Darth Vader.  "
   ]
  },
  {
   "cell_type": "markdown",
   "metadata": {},
   "source": [
    "# Future Work\n",
    "\n",
    "Try to segment the data based on columns like Education, Location (Census Region), and Which character shot first?, which aren't binary. Are they any interesting patterns?\n",
    "\n",
    "Also, look at those who consider themselves Star Wars fans vs. Star Trek fans. "
   ]
  },
  {
   "cell_type": "code",
   "execution_count": null,
   "metadata": {
    "collapsed": true
   },
   "outputs": [],
   "source": []
  }
 ],
 "metadata": {
  "kernelspec": {
   "display_name": "Python 3",
   "language": "python",
   "name": "python3"
  },
  "language_info": {
   "codemirror_mode": {
    "name": "ipython",
    "version": 3
   },
   "file_extension": ".py",
   "mimetype": "text/x-python",
   "name": "python",
   "nbconvert_exporter": "python",
   "pygments_lexer": "ipython3",
   "version": "3.4.3"
  }
 },
 "nbformat": 4,
 "nbformat_minor": 0
}
