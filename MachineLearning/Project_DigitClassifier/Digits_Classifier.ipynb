{
 "cells": [
  {
   "cell_type": "markdown",
   "metadata": {
    "collapsed": true
   },
   "source": [
    "# Handwritten Digit Classifier\n",
    "\n",
    "Complications with image classification:\n",
    "- Each image is high dimensional \n",
    "- Images are often downsampled to lower resolations or transformed to grayscale\n",
    "- Features from images don't have an obvious linear or nonlinear relationship\n",
    "\n",
    "Exploring the effectiveness of deep, feedforward neural networks at classifying images."
   ]
  },
  {
   "cell_type": "code",
   "execution_count": 1,
   "metadata": {},
   "outputs": [],
   "source": [
    "from sklearn.datasets import load_digits\n",
    "import pandas as pd\n",
    "import matplotlib.pyplot as plt\n",
    "import numpy as np\n",
    "from sklearn.neighbors import KNeighborsClassifier\n",
    "from sklearn.metrics import accuracy_score\n",
    "from sklearn.neural_network import MLPClassifier\n",
    "%matplotlib inline"
   ]
  },
  {
   "cell_type": "code",
   "execution_count": 2,
   "metadata": {},
   "outputs": [
    {
     "name": "stdout",
     "output_type": "stream",
     "text": [
      "(1797, 64)\n"
     ]
    }
   ],
   "source": [
    "digits = load_digits()\n",
    "print(digits.data.shape)"
   ]
  },
  {
   "cell_type": "markdown",
   "metadata": {},
   "source": [
    "## Previewing the Data"
   ]
  },
  {
   "cell_type": "code",
   "execution_count": 3,
   "metadata": {},
   "outputs": [
    {
     "data": {
      "text/plain": [
       "<matplotlib.image.AxesImage at 0x236e56996a0>"
      ]
     },
     "execution_count": 3,
     "metadata": {},
     "output_type": "execute_result"
    },
    {
     "data": {
      "image/png": "[encoded data removed]",
      "text/plain": [
       "<Figure size 432x288 with 1 Axes>"
      ]
     },
     "metadata": {
      "needs_background": "light"
     },
     "output_type": "display_data"
    }
   ],
   "source": [
    "# Loading the data into a dataframe\n",
    "digits_df = pd.DataFrame(digits.data)\n",
    "digit_target = pd.Series(digits.target)\n",
    "\n",
    "# Looking at the first row (image)\n",
    "first_image =  digits_df.iloc[0]\n",
    "np_image = first_image.values\n",
    "# Reshaping to an 8x8 grid\n",
    "np_image = np_image.reshape(8, 8)\n",
    "plt.imshow(np_image, cmap='gray_r')"
   ]
  },
  {
   "cell_type": "code",
   "execution_count": 4,
   "metadata": {},
   "outputs": [],
   "source": [
    "digits_df = pd.concat([digits_df, digit_target], axis=1)\n"
   ]
  },
  {
   "cell_type": "code",
   "execution_count": 5,
   "metadata": {},
   "outputs": [],
   "source": [
    "def display_image(row):\n",
    "    # Looking at the specified row (image)\n",
    "    first_image =  digits_df.iloc[row, :64]\n",
    "    np_image = first_image.values\n",
    "    # Reshaping to an 8x8 grid\n",
    "    np_image = np_image.reshape(8, 8)\n",
    "    plt.imshow(np_image, cmap='gray_r') "
   ]
  },
  {
   "cell_type": "code",
   "execution_count": 6,
   "metadata": {},
   "outputs": [
    {
     "data": {
      "image/png": "[encoded data removed]",
      "text/plain": [
       "<Figure size 864x288 with 16 Axes>"
      ]
     },
     "metadata": {
      "needs_background": "light"
     },
     "output_type": "display_data"
    }
   ],
   "source": [
    "fig, axes = plt.subplots(2, 4, figsize = (12,4))\n",
    "\n",
    "rows = [0, 100, 200, 300, 1000, 1100, 1200, 1300]\n",
    "\n",
    "for i in range(8):\n",
    "    ax = fig.add_subplot(2,4,i+1)\n",
    "    display_image(rows[i])"
   ]
  },
  {
   "cell_type": "markdown",
   "metadata": {},
   "source": [
    "## Testing K-Nearest Neighbor"
   ]
  },
  {
   "cell_type": "code",
   "execution_count": 7,
   "metadata": {},
   "outputs": [],
   "source": [
    "# Function to split the data into train and test \n",
    "def split_data(df, split=0.7, seed=1):\n",
    "    np.random.seed(seed)\n",
    "    df_shuffled = df.iloc[np.random.permutation(len(df))]\n",
    "    train = df_shuffled[:int(len(df)*split)]\n",
    "    test = df_shuffled[int(len(df)*split):]\n",
    "    return train, test"
   ]
  },
  {
   "cell_type": "code",
   "execution_count": 8,
   "metadata": {},
   "outputs": [],
   "source": [
    "# Function to train the model\n",
    "def train_model(train_X, train_y, k=5):\n",
    "    knn = KNeighborsClassifier(n_neighbors=k)\n",
    "    model = knn.fit(train_X, train_y)\n",
    "    return model"
   ]
  },
  {
   "cell_type": "code",
   "execution_count": 9,
   "metadata": {},
   "outputs": [],
   "source": [
    "# Function to test the model\n",
    "def test_model(test_X, test_y, model):\n",
    "    predictions = model.predict(test_X)\n",
    "    accuracy = accuracy_score(test_y, predictions)\n",
    "    return accuracy\n"
   ]
  },
  {
   "cell_type": "code",
   "execution_count": 10,
   "metadata": {},
   "outputs": [
    {
     "name": "stdout",
     "output_type": "stream",
     "text": [
      "0.9814814814814815\n"
     ]
    }
   ],
   "source": [
    "train, test = split_data(digits_df)\n",
    "train_X = train.iloc[:, :64]\n",
    "train_y = train.iloc[:, 64]\n",
    "test_X = test.iloc[:, :64]\n",
    "test_y = test.iloc[:, 64]\n",
    "\n",
    "model = train_model(train_X, train_y)\n",
    "\n",
    "accuracy = test_model(test_X, test_y, model)\n",
    "print(accuracy)"
   ]
  },
  {
   "cell_type": "code",
   "execution_count": 11,
   "metadata": {},
   "outputs": [],
   "source": [
    "# Function to cross validate the model \n",
    "def cross_validate(cv, k=5):\n",
    "    accuracy = []\n",
    "    for i in range(cv):\n",
    "        train, test = split_data(digits_df, 0.8, i)\n",
    "        train_X = train.iloc[:, :64]\n",
    "        train_y = train.iloc[:, 64]\n",
    "        test_X = test.iloc[:, :64]\n",
    "        test_y = test.iloc[:, 64]\n",
    "        model = train_model(train_X, train_y, k)\n",
    "        accuracy.append(test_model(test_X, test_y, model))\n",
    "    return np.mean(accuracy)"
   ]
  },
  {
   "cell_type": "code",
   "execution_count": 12,
   "metadata": {},
   "outputs": [],
   "source": [
    "# Looking at different k values for k nearest neighbors\n",
    "k_values = range(1, 21)\n",
    "\n",
    "k_accuracy = {}\n",
    "\n",
    "for k in k_values:\n",
    "    k_accuracy[k] = cross_validate(4, k)\n"
   ]
  },
  {
   "cell_type": "code",
   "execution_count": 13,
   "metadata": {},
   "outputs": [
    {
     "data": {
      "image/png": "[encoded data removed]",
      "text/plain": [
       "<Figure size 432x288 with 1 Axes>"
      ]
     },
     "metadata": {},
     "output_type": "display_data"
    }
   ],
   "source": [
    "plt.style.use('ggplot')\n",
    "pd.Series(k_accuracy).plot()\n",
    "plt.xlabel('k values')\n",
    "plt.ylabel('accuracy')\n",
    "plt.show()"
   ]
  },
  {
   "cell_type": "markdown",
   "metadata": {},
   "source": [
    "## Looking at MLP Classifier"
   ]
  },
  {
   "cell_type": "code",
   "execution_count": 124,
   "metadata": {
    "collapsed": true
   },
   "outputs": [],
   "source": [
    "neurons  = [8, 16, 32, 64, 128, 256]\n",
    "\n",
    "# Function to train the model\n",
    "def train_model_mlg(train_X, train_y, n=10):\n",
    "    mlp = MLPClassifier(hidden_layer_sizes=(n,))\n",
    "    model = mlp.fit(train_X, train_y)\n",
    "    return model\n",
    "\n",
    "# Function to cross validate the model \n",
    "def cross_validate_mlg(cv=4, n=100):\n",
    "    accuracy = []\n",
    "    for i in range(cv):\n",
    "        train, test = split_data(digits_df, 0.8, i)\n",
    "        train_X = train.iloc[:, :64]\n",
    "        train_y = train.iloc[:, 64]\n",
    "        test_X = test.iloc[:, :64]\n",
    "        test_y = test.iloc[:, 64]\n",
    "        model = train_model_mlg(train_X, train_y, n)\n",
    "        accuracy.append(test_model(test_X, test_y, model))\n",
    "    return np.mean(accuracy)"
   ]
  },
  {
   "cell_type": "code",
   "execution_count": 120,
   "metadata": {},
   "outputs": [
    {
     "name": "stdout",
     "output_type": "stream",
     "text": [
      "0.9111111111111111\n"
     ]
    },
    {
     "name": "stderr",
     "output_type": "stream",
     "text": [
      "/dataquest/system/env/python3/lib/python3.4/site-packages/sklearn/neural_network/multilayer_perceptron.py:563: ConvergenceWarning: Stochastic Optimizer: Maximum iterations reached and the optimization hasn't converged yet.\n",
      "  % (), ConvergenceWarning)\n"
     ]
    }
   ],
   "source": [
    "train, test = split_data(digits_df)\n",
    "train_X = train.iloc[:, :64]\n",
    "train_y = train.iloc[:, 64]\n",
    "test_X = test.iloc[:, :64]\n",
    "test_y = test.iloc[:, 64]\n",
    "\n",
    "model = train_model_mlg(train_X, train_y)\n",
    "\n",
    "accuracy = test_model(test_X, test_y, model)\n",
    "print(accuracy)"
   ]
  },
  {
   "cell_type": "code",
   "execution_count": null,
   "metadata": {},
   "outputs": [
    {
     "name": "stderr",
     "output_type": "stream",
     "text": [
      "/dataquest/system/env/python3/lib/python3.4/site-packages/sklearn/neural_network/multilayer_perceptron.py:563: ConvergenceWarning: Stochastic Optimizer: Maximum iterations reached and the optimization hasn't converged yet.\n",
      "  % (), ConvergenceWarning)\n"
     ]
    },
    {
     "data": {
      "image/png": "[encoded data removed]",
      "text/plain": [
       "<matplotlib.figure.Figure at 0x7f2cbe9d4278>"
      ]
     },
     "metadata": {},
     "output_type": "display_data"
    }
   ],
   "source": [
    "n_accuracy = {}\n",
    "\n",
    "for n in neurons:\n",
    "    n_accuracy[n] = cross_validate_mlg(4, n)\n",
    "    \n",
    "pd.Series(n_accuracy).plot()\n",
    "plt.xlabel('neuron values')\n",
    "plt.ylabel('accuracy')\n",
    "plt.show()"
   ]
  },
  {
   "cell_type": "markdown",
   "metadata": {},
   "source": [
    "## Two hidden layers"
   ]
  },
  {
   "cell_type": "code",
   "execution_count": null,
   "metadata": {},
   "outputs": [
    {
     "data": {
      "image/png": "[encoded data removed]",
      "text/plain": [
       "<matplotlib.figure.Figure at 0x7f2cbef226d8>"
      ]
     },
     "metadata": {},
     "output_type": "display_data"
    }
   ],
   "source": [
    "# Function to train the model\n",
    "def train_model_mlg2(train_X, train_y, n=100):\n",
    "    mlp = MLPClassifier(hidden_layer_sizes=(n, n))\n",
    "    model = mlp.fit(train_X, train_y)\n",
    "    return model\n",
    "\n",
    "# Function to cross validate the model \n",
    "def cross_validate_mlg2(cv=4, n=100):\n",
    "    accuracy = []\n",
    "    for i in range(cv):\n",
    "        train, test = split_data(digits_df, 0.8, i)\n",
    "        train_X = train.iloc[:, :64]\n",
    "        train_y = train.iloc[:, 64]\n",
    "        test_X = test.iloc[:, :64]\n",
    "        test_y = test.iloc[:, 64]\n",
    "        model = train_model_mlg2(train_X, train_y, n)\n",
    "        accuracy.append(test_model(test_X, test_y, model))\n",
    "    return np.mean(accuracy)\n",
    "\n",
    "n_accuracy2 = {} \n",
    "for n in [64, 128]:\n",
    "    n_accuracy2[n] = cross_validate_mlg2(4, n)\n",
    "    \n",
    "pd.Series(n_accuracy2).plot()\n",
    "plt.xlabel('neuron values')\n",
    "plt.ylabel('accuracy')\n",
    "plt.show()"
   ]
  },
  {
   "cell_type": "markdown",
   "metadata": {},
   "source": [
    "## Three hidden layers"
   ]
  },
  {
   "cell_type": "code",
   "execution_count": 14,
   "metadata": {},
   "outputs": [
    {
     "name": "stderr",
     "output_type": "stream",
     "text": [
      "C:\\Anaconda\\lib\\site-packages\\sklearn\\neural_network\\multilayer_perceptron.py:562: ConvergenceWarning: Stochastic Optimizer: Maximum iterations (200) reached and the optimization hasn't converged yet.\n",
      "  % self.max_iter, ConvergenceWarning)\n",
      "C:\\Anaconda\\lib\\site-packages\\sklearn\\neural_network\\multilayer_perceptron.py:562: ConvergenceWarning: Stochastic Optimizer: Maximum iterations (200) reached and the optimization hasn't converged yet.\n",
      "  % self.max_iter, ConvergenceWarning)\n",
      "C:\\Anaconda\\lib\\site-packages\\sklearn\\neural_network\\multilayer_perceptron.py:562: ConvergenceWarning: Stochastic Optimizer: Maximum iterations (200) reached and the optimization hasn't converged yet.\n",
      "  % self.max_iter, ConvergenceWarning)\n",
      "C:\\Anaconda\\lib\\site-packages\\sklearn\\neural_network\\multilayer_perceptron.py:562: ConvergenceWarning: Stochastic Optimizer: Maximum iterations (200) reached and the optimization hasn't converged yet.\n",
      "  % self.max_iter, ConvergenceWarning)\n"
     ]
    },
    {
     "data": {
      "image/png": "[encoded data removed]",
      "text/plain": [
       "<Figure size 432x288 with 1 Axes>"
      ]
     },
     "metadata": {},
     "output_type": "display_data"
    }
   ],
   "source": [
    "# Function to train the model\n",
    "def train_model_mlg3(train_X, train_y, n=100):\n",
    "    mlp = MLPClassifier(hidden_layer_sizes=(n, n, n))\n",
    "    model = mlp.fit(train_X, train_y)\n",
    "    return model\n",
    "\n",
    "# Function to cross validate the model \n",
    "def cross_validate_mlg3(cv=4, n=100):\n",
    "    accuracy = []\n",
    "    for i in range(cv):\n",
    "        train, test = split_data(digits_df, 0.8, i)\n",
    "        train_X = train.iloc[:, :64]\n",
    "        train_y = train.iloc[:, 64]\n",
    "        test_X = test.iloc[:, :64]\n",
    "        test_y = test.iloc[:, 64]\n",
    "        model = train_model_mlg3(train_X, train_y, n)\n",
    "        accuracy.append(test_model(test_X, test_y, model))\n",
    "    return np.mean(accuracy)\n",
    "\n",
    "n_accuracy3 = {} \n",
    "for n in [10, 64, 128]:\n",
    "    n_accuracy3[n] = cross_validate_mlg3(4, n)\n",
    "    \n",
    "pd.Series(n_accuracy3).plot()\n",
    "plt.xlabel('neuron values')\n",
    "plt.ylabel('accuracy')\n",
    "plt.show()"
   ]
  },
  {
   "cell_type": "markdown",
   "metadata": {
    "collapsed": true
   },
   "source": [
    "The maximum accuracy for both the k-nearest neighbor classifier and the MLP classifer was about 0.98. The advantage of chosing the neural network MLP classifier verses the k-nearest neighbor classifier is scalability.  K-nearest neighbor classifier stores the entire data set in the model, which can cause memory issues with larger datasets.  "
   ]
  },
  {
   "cell_type": "markdown",
   "metadata": {},
   "source": [
    "# Future Work\n",
    "\n",
    "- Look at other models, such as Decision Trees. \n",
    "- Try grid search for hyperparamater optimization.  "
   ]
  },
  {
   "cell_type": "code",
   "execution_count": null,
   "metadata": {},
   "outputs": [],
   "source": []
  }
 ],
 "metadata": {
  "anaconda-cloud": {},
  "kernelspec": {
   "display_name": "Python 3",
   "language": "python",
   "name": "python3"
  },
  "language_info": {
   "codemirror_mode": {
    "name": "ipython",
    "version": 3
   },
   "file_extension": ".py",
   "mimetype": "text/x-python",
   "name": "python",
   "nbconvert_exporter": "python",
   "pygments_lexer": "ipython3",
   "version": "3.7.1"
  }
 },
 "nbformat": 4,
 "nbformat_minor": 2
}
